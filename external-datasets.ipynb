{
 "cells": [
  {
   "cell_type": "code",
   "execution_count": null,
   "metadata": {},
   "outputs": [],
   "source": [
    "import tqdm\n",
    "import os\n",
    "import data\n",
    "import nets\n",
    "import torch\n",
    "from torch.utils.data import DataLoader\n",
    "import numpy as np\n",
    "import pandas as pd\n",
    "import matplotlib.pyplot as plt\n",
    "from sklearn.metrics import average_precision_score, roc_auc_score, confusion_matrix\n",
    "\n",
    "diseases = ['DR', 'ARMD', 'MH', 'DN', 'MYA', 'BRVO', 'TSLN', 'ERM', 'LS', 'MS',\n",
    "            'CSR', 'ODC', 'CRVO', 'TV', 'AH', 'ODP', 'ODE', 'ST', 'AION', 'PT',\n",
    "            'RT', 'RS', 'CRS', 'EDN', 'RPEC', 'MHL', 'RP', 'other']"
   ]
  },
  {
   "cell_type": "code",
   "execution_count": null,
   "metadata": {},
   "outputs": [],
   "source": [
    "class EnsembleModel(torch.nn.Module):\n",
    "  def __init__(self, models: list[torch.nn.Module]):\n",
    "    super().__init__()\n",
    "    self.models = models\n",
    "    \n",
    "  def forward(self, x):\n",
    "    ys = torch.stack([m(x) for m in self.models]).mean(0)\n",
    "    return ys\n",
    "\n",
    "def load_model(ckpt_path, arch, device='cuda:0'):\n",
    "  model = nets.load_model(arch)\n",
    "  ckpt = torch.load(ckpt_path, map_location=torch.device('cpu'))\n",
    "  new_dict = {\n",
    "      k.replace('vit.', 'model.'): v\n",
    "      for k, v in ckpt['state_dict'].items()\n",
    "  }\n",
    "  model.load_state_dict(new_dict)\n",
    "  model.eval()\n",
    "  model.to(device)\n",
    "  return model\n",
    "\n",
    "def get_stats(pred, labels, index=0):\n",
    "  auc = roc_auc_score(labels[:, index], pred[:, index])\n",
    "  ap = average_precision_score(labels[:, index], pred[:, index])\n",
    "  matrix = confusion_matrix(labels[:, index], pred[:, index] > 0.5)\n",
    "  matrix25 = confusion_matrix(labels[:, index], pred[:, index] > 0.25)\n",
    "  matrix10 = confusion_matrix(labels[:, index], pred[:, index] > 0.10)\n",
    "  matrix5 = confusion_matrix(labels[:, index], pred[:, index] > 0.05)\n",
    "  return {'AUC': auc, 'AP': ap, 'conf@0.5': matrix, 'conf@0.25': matrix25, 'conf@0.10': matrix10, 'conf@0.05': matrix5}\n",
    "\n",
    "def get_metrics(model: EnsembleModel, valsets, batch_size=4, index=0):\n",
    "  N = len(valsets[0])\n",
    "  num_workers = min(os.cpu_count() - 1, batch_size)\n",
    "  dataloader = DataLoader(valsets[0], batch_size=batch_size, shuffle=False, \n",
    "                          num_workers=num_workers)\n",
    "\n",
    "  outs = np.zeros((N, 29))\n",
    "\n",
    "  with torch.no_grad():\n",
    "    for i, (imgs, label) in enumerate(tqdm.tqdm(dataloader)):\n",
    "      idx = i * batch_size\n",
    "      imgs = imgs.to(model.models[0].device)\n",
    "      out = torch.sigmoid(model(imgs)).detach().cpu().numpy()\n",
    "      outs[idx:idx + len(out), :] = out\n",
    "\n",
    "  stats = {}\n",
    "  for v, valset in enumerate(valsets, 1):\n",
    "    labels = valset.df.iloc[:, 1:].to_numpy()\n",
    "    for i in index:\n",
    "      didx = diseases.index(i) + 1\n",
    "      stats[i + '_' + str(v)] = get_stats(outs, labels, index=didx)\n",
    "\n",
    "  df = pd.DataFrame(stats).T\n",
    "  return df\n",
    "# MODEL = '/usr/mvl2/itdfh/dev/retinal-disease-classification/weights-resnext512-init-update-itdfhnorm/checkpoints/best/boosting-resnext512-init-update-itdfhnorm-512x512-b06-epoch=036-val_s_score=0.8907.ckpt'\n",
    "# model = load_model(MODEL, 'resnext')"
   ]
  },
  {
   "cell_type": "code",
   "execution_count": null,
   "metadata": {},
   "outputs": [],
   "source": [
    "import glob\n",
    "\n",
    "multi_expert_models = glob.glob('/usr/mvl2/itdfh/dev/retinal-disease-classification/weights-resnext512-init-update-itdfhnorm/checkpoints/best/*.ckpt')\n",
    "# Single model\n",
    "single_model = EnsembleModel([load_model(multi_expert_models[0], 'resnext')])\n",
    "\n",
    "# Multi-expert\n",
    "multi_expert_models = [load_model(m, 'resnext') for m in multi_expert_models]\n",
    "multi_expert = EnsembleModel(multi_expert_models)\n",
    "\n",
    "# Bagging\n",
    "bagging_models = glob.glob('/cluster/VAST/civalab/results/riadd/imad/final-resnext-512-noinit-noupdate-norm-newsplit/best/*.ckpt')\n",
    "bagging_models = [load_model(m, 'resnext', device='cuda:1') for m in bagging_models]\n",
    "bagging = EnsembleModel(bagging_models)"
   ]
  },
  {
   "cell_type": "code",
   "execution_count": null,
   "metadata": {},
   "outputs": [],
   "source": [
    "# refuge_model = load_model('/usr/mvl2/itdfh/dev/retinal-disease-classification/weights-resnext512-finetune-refuge/checkpoints/boosting-resnext512-finetune-refuge-512x512-epoch=095-val_s_score=0.7074.ckpt', 'resnext')\n",
    "# refuge_model = load_model('/usr/mvl2/itdfh/dev/retinal-disease-classification/weights-resnext512-finetune-refuge/checkpoints/boosting-resnext512-finetune-refuge-512x512-epoch=025-val_s_score=0.7072.ckpt', 'resnext')\n",
    "# refuge_model = load_model('weights-resnext512-refuge/checkpoints/boosting-resnext512-refuge-512x512-b00-epoch=061-val_auc_glaucoma=0.9560.ckpt', 'resnext')\n",
    "# only learn GL\n",
    "# refuge_model = load_model('weights-resnext512-refuge/checkpoints/boosting-resnext512-refuge-512x512-b00-epoch=030-val_auc_glaucoma=0.9616.ckpt', 'resnext')\n",
    "# frozen backbone\n",
    "# refuge_model = load_model('weights-resnext512-refuge/checkpoints/boosting-resnext512-refuge-512x512-b00-epoch=045-val_auc_glaucoma=0.6358.ckpt', 'resnext')\n",
    "# elham\n",
    "# refuge_model = load_model('/cluster/VAST/civalab/results/elham_results/checkpoints_exp1/boosting-resnext512-init-update-itdfhnorm-512x512-b02-epoch=057-val_s_score=0.6710.ckpt', 'resnext')\n",
    "refuge_model = load_model('/cluster/VAST/civalab/results/elham_results/checkpoints_exp1/boosting-resnext512-init-update-itdfhnorm-512x512-b00-epoch=018-val_s_score=0.6917.ckpt', 'resnext')\n",
    "# refuge_model = load_model('/cluster/VAST/civalab/results/elham_results/checkpoints_exp1/boosting-resnext512-init-update-itdfhnorm-512x512-b00-epoch=020-val_s_score=0.6977.ckpt', 'resnext')\n",
    "refuge_model = EnsembleModel([refuge_model])"
   ]
  },
  {
   "cell_type": "markdown",
   "metadata": {},
   "source": [
    "# REFUGE"
   ]
  },
  {
   "cell_type": "code",
   "execution_count": null,
   "metadata": {},
   "outputs": [],
   "source": [
    "# test and validation GT\n",
    "test_excel = '/cluster/VAST/civalab/public_datasets/refuge-full/Test400-GT/Glaucoma_label_and_Fovea_location.xlsx'\n",
    "df_refuge = pd.read_excel(test_excel).drop(['ID', 'Fovea_X', 'Fovea_Y'], axis=1)\n",
    "\n",
    "\n",
    "df_refuge['Disease_Risk'] = 0\n",
    "for d in diseases:\n",
    "  df_refuge[d] = 0\n",
    "df_refuge.rename({'ImgName': 'ID'}, axis=1, inplace=True)\n",
    "df_refuge['ODC'] = df_refuge['Label(Glaucoma=1)']\n",
    "df_refuge['Disease_Risk'] = df_refuge['Label(Glaucoma=1)']\n",
    "df_refuge.drop(['Label(Glaucoma=1)'], axis=1).to_csv(\n",
    "    f'datasets/refuge_test.csv', index=False)\n"
   ]
  },
  {
   "cell_type": "code",
   "execution_count": null,
   "metadata": {},
   "outputs": [],
   "source": [
    "# test and validation GT\n",
    "val_excel = '/cluster/VAST/civalab/public_datasets/refuge-full/Validation400-GT/Fovea_locations.xlsx'\n",
    "df_refuge = pd.read_excel(val_excel).drop(['ID', 'Fovea_X', 'Fovea_Y'], axis=1)\n",
    "\n",
    "df_refuge['Disease_Risk'] = 0\n",
    "for d in diseases:\n",
    "  df_refuge[d] = 0\n",
    "df_refuge.rename({'ImgName': 'ID'}, axis=1, inplace=True)\n",
    "df_refuge['ODC'] = df_refuge['Glaucoma Label']\n",
    "df_refuge['Disease_Risk'] = df_refuge['Glaucoma Label']\n",
    "df_refuge.drop(['Glaucoma Label'], axis=1).to_csv(\n",
    "    f'datasets/refuge_val.csv', index=False)\n"
   ]
  },
  {
   "cell_type": "code",
   "execution_count": null,
   "metadata": {},
   "outputs": [],
   "source": [
    "# TEST_IMG_PATH = '/cluster/VAST/civalab/public_datasets/REFUGE-llzqd/train'\n",
    "# # TEST_CSV = '/cluster/VAST/civalab/public_datasets/REFUGE-llzqd/REFUGE_train.csv'\n",
    "# TEST_CSV = 'refuge-train-full-label-riadd.csv'\n",
    "\n",
    "TEST_IMG_PATH = '/cluster/VAST/civalab/public_datasets/REFUGE/test/Images'\n",
    "TEST_CSV = 'datasets/refuge_test.csv'\n"
   ]
  },
  {
   "cell_type": "code",
   "execution_count": null,
   "metadata": {},
   "outputs": [],
   "source": [
    "valset = data.REFUGEDataset(TEST_CSV, TEST_IMG_PATH, testing=True,\n",
    "                            input_size=512)\n",
    "# healthy_df = valset.df[(valset.df['ODC'] == 0) & (valset.df.sum(axis=1) == 0)]\n",
    "# glaucoma_df = valset.df[valset.df['ODC'] == 1]\n",
    "# valset.df = pd.concat([\n",
    "#   healthy_df,\n",
    "#   glaucoma_df  \n",
    "# ])\n",
    "plt.imshow(valset[0][0].permute(1, 2, 0)[..., 0].detach().cpu().numpy())\n"
   ]
  },
  {
   "cell_type": "code",
   "execution_count": null,
   "metadata": {},
   "outputs": [],
   "source": [
    "get_metrics(multi_expert, [valset], index=['ODC'], batch_size=16)"
   ]
  },
  {
   "cell_type": "code",
   "execution_count": null,
   "metadata": {},
   "outputs": [],
   "source": [
    "get_metrics(bagging, [valset], index=['ODC'])"
   ]
  },
  {
   "cell_type": "code",
   "execution_count": null,
   "metadata": {},
   "outputs": [],
   "source": [
    "get_metrics(single_model, [valset], index=['ODC'])"
   ]
  },
  {
   "cell_type": "code",
   "execution_count": null,
   "metadata": {},
   "outputs": [],
   "source": [
    "get_metrics(refuge_model, [valset], index=['ODC'])"
   ]
  },
  {
   "cell_type": "markdown",
   "metadata": {},
   "source": [
    "# EyePACS"
   ]
  },
  {
   "cell_type": "code",
   "execution_count": null,
   "metadata": {},
   "outputs": [],
   "source": [
    "df_eyepacs = pd.read_csv('/cluster/VAST/civalab/public_datasets/EyePacs-diabetic-retinopathy-detection/testLabels.csv')\n",
    "# df_eyepacs = pd.read_csv('/cluster/VAST/civalab/public_datasets/EyePacs-diabetic-retinopathy-detection/trainLabels.csv')\n",
    "df_eyepacs['Disease_Risk'] = 0\n",
    "for d in diseases:\n",
    "  df_eyepacs[d] = 0\n",
    "df_eyepacs.rename({'image': 'ID'}, axis=1, inplace=True)\n",
    "df_eyepacs"
   ]
  },
  {
   "cell_type": "code",
   "execution_count": null,
   "metadata": {},
   "outputs": [],
   "source": [
    "for v in df_eyepacs['level'].unique():\n",
    "  if not v:\n",
    "    continue\n",
    "  df_eyepacs['DR'] = (df_eyepacs['level'] >= v).astype(int)\n",
    "  df_eyepacs['Disease_Risk'] = (df_eyepacs['level'] >= v).astype(int)\n",
    "  remove_cols = ['level']\n",
    "  if 'Usage' in df_eyepacs.columns:\n",
    "    remove_cols.append('Usage')\n",
    "  df_eyepacs.drop(remove_cols, axis=1).to_csv(f'datasets/test/eyepacs_test_level_{v}.csv', index=False)\n",
    "  # break"
   ]
  },
  {
   "cell_type": "code",
   "execution_count": null,
   "metadata": {},
   "outputs": [],
   "source": [
    "TEST_IMG_PATH = '/cluster/VAST/civalab/public_datasets/EyePacs-diabetic-retinopathy-detection/test'\n",
    "eyepacs = []\n",
    "for i in range(1, 5):\n",
    "  TEST_CSV = f'datasets/test/eyepacs_test_level_{i}.csv'\n",
    "  eyepacs.append(data.EyePACSDataset(TEST_CSV, TEST_IMG_PATH, testing=True, input_size=512, ext='.jpeg'))\n",
    "plt.imshow(eyepacs[1][10][0].permute(1, 2, 0)[..., 0].detach().cpu().numpy())"
   ]
  },
  {
   "cell_type": "code",
   "execution_count": null,
   "metadata": {},
   "outputs": [],
   "source": [
    "df_results_eyepacs_single = get_metrics(single_model, eyepacs, batch_size=32, index=['DR'])\n",
    "df_results_eyepacs_single"
   ]
  },
  {
   "cell_type": "code",
   "execution_count": null,
   "metadata": {},
   "outputs": [],
   "source": [
    "df_results_eyepacs_bagging = get_metrics(bagging, eyepacs, batch_size=64, index=['DR'])\n",
    "df_results_eyepacs_bagging"
   ]
  },
  {
   "cell_type": "code",
   "execution_count": null,
   "metadata": {},
   "outputs": [],
   "source": [
    "df_results_eyepacs_bagging"
   ]
  },
  {
   "cell_type": "code",
   "execution_count": null,
   "metadata": {},
   "outputs": [],
   "source": [
    "eyepacs[0].__len__()"
   ]
  },
  {
   "cell_type": "code",
   "execution_count": null,
   "metadata": {},
   "outputs": [],
   "source": [
    "df_results_eyepacs_multi_expert = get_metrics(multi_expert, eyepacs, batch_size=32, index=['DR'])\n",
    "df_results_eyepacs_multi_expert"
   ]
  },
  {
   "cell_type": "markdown",
   "metadata": {},
   "source": [
    "# IDRiD"
   ]
  },
  {
   "cell_type": "code",
   "execution_count": null,
   "metadata": {},
   "outputs": [],
   "source": [
    "df_idrid = pd.read_csv('/cluster/VAST/civalab/public_datasets/IDRiD/B-Disease-Grading/2-Groundtruths/b-IDRiD_Disease-Grading_Testing-Labels.csv')\n"
   ]
  },
  {
   "cell_type": "code",
   "execution_count": null,
   "metadata": {},
   "outputs": [],
   "source": [
    "df_idrid['Disease_Risk'] = 0\n",
    "for d in diseases:\n",
    "  df_idrid[d] = 0\n",
    "df_idrid.rename({'Image name': 'ID'}, axis=1, inplace=True)\n",
    "\n",
    "for v in df_idrid['Retinopathy grade'].unique():\n",
    "  if not v:\n",
    "    continue\n",
    "  df_idrid['DR'] = (df_idrid['Retinopathy grade'] >= v).astype(int)\n",
    "  df_idrid['Disease_Risk'] = (df_idrid['Retinopathy grade'] >= v).astype(int)\n",
    "  df_idrid.drop(['Retinopathy grade', 'Risk of macular edema '], axis=1).to_csv(f'datasets/idrid_test_level_{v}.csv', index=False)\n",
    "  # break"
   ]
  },
  {
   "cell_type": "code",
   "execution_count": null,
   "metadata": {},
   "outputs": [],
   "source": [
    "TEST_IMG_PATH = '/cluster/VAST/civalab/public_datasets/IDRiD/B-Disease-Grading/1-Original-Images/b-Testing-Set'\n",
    "idrid = []\n",
    "for i in range(1, 5):\n",
    "  TEST_CSV = f'datasets/idrid_test_level_{i}.csv'\n",
    "  idrid.append(\n",
    "    data.IDRiDDataset(TEST_CSV, TEST_IMG_PATH, testing=True, input_size=512))\n",
    "plt.imshow(idrid[0][1][0].permute(1, 2, 0)[..., 1].detach().cpu().numpy())"
   ]
  },
  {
   "cell_type": "code",
   "execution_count": null,
   "metadata": {},
   "outputs": [],
   "source": [
    "get_metrics(single_model, idrid, index=['DR'])"
   ]
  },
  {
   "cell_type": "code",
   "execution_count": null,
   "metadata": {},
   "outputs": [],
   "source": [
    "get_metrics(multi_expert, idrid, index=['DR'])"
   ]
  },
  {
   "cell_type": "code",
   "execution_count": null,
   "metadata": {},
   "outputs": [],
   "source": [
    "get_metrics(bagging, idrid, index=['DR'])"
   ]
  },
  {
   "cell_type": "markdown",
   "metadata": {},
   "source": [
    "# Messidor"
   ]
  },
  {
   "cell_type": "code",
   "execution_count": null,
   "metadata": {},
   "outputs": [],
   "source": [
    "import glob\n",
    "excels = glob.glob('/cluster/VAST/civalab/public_datasets/MESSIDOR/excel/*.xls')\n",
    "# df_messidor = pd.read_excel('')"
   ]
  },
  {
   "cell_type": "code",
   "execution_count": null,
   "metadata": {},
   "outputs": [],
   "source": [
    "df_messidor = pd.DataFrame()\n",
    "for excel in excels:\n",
    "  base = excel.split('Annotation_')[-1].replace('.xls', '')\n",
    "  df_base = pd.read_excel(excel)\n",
    "  df_base['Image name'] = df_base['Image name'].apply(lambda x: base + '/' + x)\n",
    "  df_messidor = pd.concat([df_messidor, df_base], axis=0)\n",
    "  "
   ]
  },
  {
   "cell_type": "code",
   "execution_count": null,
   "metadata": {},
   "outputs": [],
   "source": [
    "df_messidor['Disease_Risk'] = 0\n",
    "for d in diseases:\n",
    "  df_messidor[d] = 0\n",
    "df_messidor.rename({'Image name': 'ID'}, axis=1, inplace=True)\n",
    "\n",
    "for v in df_messidor['Retinopathy grade'].unique():\n",
    "  if not v:\n",
    "    continue\n",
    "  df_messidor['DR'] = (df_messidor['Retinopathy grade'] >= v).astype(int)\n",
    "  df_messidor['Disease_Risk'] = (df_messidor['Retinopathy grade'] >= v).astype(int)\n",
    "  df_messidor.drop(['Retinopathy grade', 'Risk of macular edema ', 'Ophthalmologic department'], axis=1).to_csv(\n",
    "      f'datasets/messidor_level_{v}.csv', index=False)\n",
    "  # break"
   ]
  },
  {
   "cell_type": "code",
   "execution_count": null,
   "metadata": {},
   "outputs": [],
   "source": [
    "TEST_IMG_PATH = '/cluster/VAST/civalab/public_datasets/MESSIDOR'\n",
    "messidor = []\n",
    "for i in range(1, 4):\n",
    "  TEST_CSV = f'datasets/messidor_level_{i}.csv'\n",
    "  messidor.append(data.IDRiDDataset(TEST_CSV, TEST_IMG_PATH, testing=True, input_size=512, ext='.tif'))\n",
    "plt.imshow(messidor[0][150][0].permute(1, 2, 0)[..., 1].detach().cpu().numpy())"
   ]
  },
  {
   "cell_type": "code",
   "execution_count": null,
   "metadata": {},
   "outputs": [],
   "source": [
    "get_metrics(single_model, messidor, index=['DR'], batch_size=32)"
   ]
  },
  {
   "cell_type": "code",
   "execution_count": null,
   "metadata": {},
   "outputs": [],
   "source": [
    "get_metrics(multi_expert, messidor, index=['DR'], batch_size=32)"
   ]
  },
  {
   "cell_type": "code",
   "execution_count": null,
   "metadata": {},
   "outputs": [],
   "source": [
    "get_metrics(bagging, messidor, index=diseases.index('DR') + 1, batch_size=32)"
   ]
  },
  {
   "cell_type": "markdown",
   "metadata": {},
   "source": [
    "# DeepDRID"
   ]
  },
  {
   "cell_type": "code",
   "execution_count": null,
   "metadata": {},
   "outputs": [],
   "source": [
    "df_deepdrid = pd.read_csv('/cluster/VAST/civalab/public_datasets/DeepDRiD/regular_fundus_images/regular-fundus-validation/regular-fundus-validation.csv')\n",
    "df_deepdrid['image_path'] = df_deepdrid['image_path'].apply(lambda x: x[1:].replace('\\\\', '/'))\n",
    "df_deepdrid = df_deepdrid[['image_path', 'patient_DR_Level']]\n",
    "\n",
    "df_deepdrid['Disease_Risk'] = 0\n",
    "for d in diseases:\n",
    "  df_deepdrid[d] = 0\n",
    "df_deepdrid.rename({'image_path': 'ID'}, axis=1, inplace=True)\n",
    "\n",
    "for v in df_deepdrid['patient_DR_Level'].unique():\n",
    "  if not v:\n",
    "    continue\n",
    "  df_deepdrid['DR'] = (df_deepdrid['patient_DR_Level'] >= v).astype(int)\n",
    "  df_deepdrid['Disease_Risk'] = (df_deepdrid['patient_DR_Level'] >= v).astype(int)\n",
    "  df_deepdrid.drop(['patient_DR_Level'], axis=1).to_csv(\n",
    "      f'datasets/deepdrid_val_level_{v}.csv', index=False)\n",
    "  # break"
   ]
  },
  {
   "cell_type": "code",
   "execution_count": null,
   "metadata": {},
   "outputs": [],
   "source": [
    "TEST_IMG_PATH = '/cluster/VAST/civalab/public_datasets/DeepDRiD/regular_fundus_images/regular-fundus-validation'\n",
    "TEST_CSV = 'datasets/deepdrid_val_level_3.csv'\n",
    "deepdrid = data.IDRiDDataset(TEST_CSV, TEST_IMG_PATH, testing=True, input_size=512, ext='.jpg')\n",
    "plt.imshow(deepdrid[150][0].permute(1, 2, 0)[..., 1].detach().cpu().numpy())"
   ]
  },
  {
   "cell_type": "code",
   "execution_count": null,
   "metadata": {},
   "outputs": [],
   "source": [
    "get_metrics(single_model, deepdrid, index=diseases.index('DR') + 1, batch_size=32)"
   ]
  },
  {
   "cell_type": "code",
   "execution_count": null,
   "metadata": {},
   "outputs": [],
   "source": [
    "get_metrics(multi_expert, deepdrid, index=diseases.index('DR') + 1, batch_size=32)"
   ]
  },
  {
   "cell_type": "code",
   "execution_count": null,
   "metadata": {},
   "outputs": [],
   "source": [
    "get_metrics(bagging, deepdrid, index=diseases.index('DR') + 1, batch_size=32)"
   ]
  },
  {
   "cell_type": "markdown",
   "metadata": {},
   "source": [
    "# HRF: High Resolution Fundus"
   ]
  },
  {
   "cell_type": "code",
   "execution_count": null,
   "metadata": {},
   "outputs": [],
   "source": [
    "files = glob.glob('/cluster/VAST/civalab/public_datasets/high-resolution-fundus/images/*')\n",
    "ids = [os.path.basename(f) for f in files]\n",
    "df_hrf = pd.DataFrame({\n",
    "  'file': files,\n",
    "  'ID': ids\n",
    "})\n",
    "df_hrf['Disease_Risk'] = 0\n",
    "for d in diseases:\n",
    "  df_hrf[d] = 0\n",
    "df_hrf['DR'] = df_hrf['ID'].apply(lambda x: 'dr' in x).astype(int)\n",
    "df_hrf['ODC'] = df_hrf['ID'].apply(lambda x: 'g' in x).astype(int)\n",
    "df_hrf['Disease_Risk'] = df_hrf['ID'].apply(lambda x: 'h' not in x).astype(int)\n",
    "df_hrf = df_hrf.drop('file', axis=1)\n",
    "df_hrf.to_csv('datasets/hrf.csv', index=False)\n"
   ]
  },
  {
   "cell_type": "code",
   "execution_count": null,
   "metadata": {},
   "outputs": [],
   "source": [
    "TEST_IMG_PATH = '/cluster/VAST/civalab/public_datasets/high-resolution-fundus/images'\n",
    "TEST_CSV = 'datasets/hrf.csv'\n",
    "hrf = data.REFUGEDataset(TEST_CSV, TEST_IMG_PATH, testing=True, input_size=512, ext='')\n",
    "plt.imshow(hrf[0][0].permute(1, 2, 0)[..., 1].detach().cpu().numpy())"
   ]
  },
  {
   "cell_type": "code",
   "execution_count": null,
   "metadata": {},
   "outputs": [],
   "source": [
    "get_metrics(refuge_model, [hrf], index=['ODC'], batch_size=32)"
   ]
  },
  {
   "cell_type": "code",
   "execution_count": null,
   "metadata": {},
   "outputs": [],
   "source": [
    "get_metrics(bagging, [hrf], index=['ODC', 'DR'], batch_size=32)"
   ]
  },
  {
   "cell_type": "code",
   "execution_count": null,
   "metadata": {},
   "outputs": [],
   "source": [
    "get_metrics(multi_expert, [hrf], index=['ODC', 'DR'], batch_size=32)"
   ]
  },
  {
   "cell_type": "code",
   "execution_count": null,
   "metadata": {},
   "outputs": [],
   "source": [
    "# get_metrics(single_model, hrf, index=diseases.index('DR') + 1, batch_size=32)\n",
    "get_metrics(single_model, [hrf], index=['ODC', 'DR'], batch_size=32)"
   ]
  },
  {
   "cell_type": "code",
   "execution_count": null,
   "metadata": {},
   "outputs": [],
   "source": [
    "# get_metrics(single_model, hrf, index=diseases.index('ODC') + 1, batch_size=32)\n",
    "get_metrics(refuge_model, [hrf], index=['ODC'], batch_size=2)"
   ]
  },
  {
   "cell_type": "code",
   "execution_count": null,
   "metadata": {},
   "outputs": [],
   "source": [
    "get_metrics(bagging, hrf, index=diseases.index('DR') + 1, batch_size=32)"
   ]
  },
  {
   "cell_type": "code",
   "execution_count": null,
   "metadata": {},
   "outputs": [],
   "source": [
    "get_metrics(bagging, hrf, index=diseases.index('ODC') + 1, batch_size=32)"
   ]
  },
  {
   "cell_type": "code",
   "execution_count": null,
   "metadata": {},
   "outputs": [],
   "source": [
    "get_metrics(multi_expert, hrf, index=diseases.index('DR') + 1, batch_size=32)"
   ]
  },
  {
   "cell_type": "code",
   "execution_count": null,
   "metadata": {},
   "outputs": [],
   "source": [
    "get_metrics(multi_expert, hrf, index=diseases.index('ODC') + 1, batch_size=32)"
   ]
  },
  {
   "cell_type": "markdown",
   "metadata": {},
   "source": [
    "# ORIGA"
   ]
  },
  {
   "cell_type": "code",
   "execution_count": null,
   "metadata": {},
   "outputs": [],
   "source": [
    "df_origa = pd.read_csv('/cluster/VAST/civalab/public_datasets/ORIGA/OrigaList.csv')\n",
    "df_origa"
   ]
  },
  {
   "cell_type": "code",
   "execution_count": null,
   "metadata": {},
   "outputs": [],
   "source": [
    "df_origa['Disease_Risk'] = 0\n",
    "for d in diseases:\n",
    "  df_origa[d] = 0\n",
    "df_origa.rename({'Filename': 'ID'}, axis=1, inplace=True)\n",
    "df_origa['ODC'] = df_origa['Glaucoma']\n",
    "df_origa['Disease_Risk'] = df_origa['Glaucoma']\n",
    "df_origa.drop(['Glaucoma', 'Eye', 'ExpCDR', 'Set'], axis=1).to_csv(\n",
    "    f'datasets/origa.csv', index=False)\n"
   ]
  },
  {
   "cell_type": "code",
   "execution_count": null,
   "metadata": {},
   "outputs": [],
   "source": [
    "dl = DataLoader(origa, batch_size=4, shuffle=False,  num_workers=4)\n",
    "for i, (x, y) in enumerate(dl):\n",
    "  print(x.shape, y.shape)"
   ]
  },
  {
   "cell_type": "code",
   "execution_count": null,
   "metadata": {},
   "outputs": [],
   "source": [
    "TEST_IMG_PATH = '/cluster/VAST/civalab/public_datasets/ORIGA/Images_Square'\n",
    "TEST_CSV = 'datasets/origa.csv'\n",
    "origa = data.EyePACSDataset(TEST_CSV, TEST_IMG_PATH, testing=True, input_size=512, ext='')\n",
    "plt.imshow(origa[0][0].permute(1, 2, 0)[..., 1].detach().cpu().numpy())"
   ]
  },
  {
   "cell_type": "code",
   "execution_count": null,
   "metadata": {},
   "outputs": [],
   "source": [
    "get_metrics(single_model, [origa], index=['ODC'], batch_size=16)"
   ]
  },
  {
   "cell_type": "code",
   "execution_count": null,
   "metadata": {},
   "outputs": [],
   "source": [
    "get_metrics(bagging, [origa], index=['ODC'], batch_size=16)"
   ]
  },
  {
   "cell_type": "code",
   "execution_count": null,
   "metadata": {},
   "outputs": [],
   "source": [
    "get_metrics(multi_expert, [origa], index=['ODC'], batch_size=16)"
   ]
  },
  {
   "cell_type": "code",
   "execution_count": null,
   "metadata": {},
   "outputs": [],
   "source": [
    "get_metrics(refuge_model, [origa], index=['ODC'], batch_size=16)"
   ]
  },
  {
   "cell_type": "code",
   "execution_count": null,
   "metadata": {},
   "outputs": [],
   "source": [
    "get_metrics(bagging, origa, index=0, batch_size=32)"
   ]
  },
  {
   "cell_type": "markdown",
   "metadata": {},
   "source": [
    "# STARE"
   ]
  },
  {
   "cell_type": "code",
   "execution_count": null,
   "metadata": {},
   "outputs": [],
   "source": [
    "with open('/cluster/VAST/civalab/public_datasets/STARE/all-mg-codes.txt') as f:\n",
    "  lines = f.readlines()\n",
    "  lines = [l.partition('\\t') for l in lines]"
   ]
  },
  {
   "cell_type": "code",
   "execution_count": null,
   "metadata": {},
   "outputs": [],
   "source": [
    "TEST_IMG_PATH = '/cluster/VAST/civalab/public_datasets/STARE/all-images'\n",
    "existing = [i.replace('.ppm', '') for i in os.listdir(TEST_IMG_PATH)]"
   ]
  },
  {
   "cell_type": "code",
   "execution_count": null,
   "metadata": {},
   "outputs": [],
   "source": [
    "df_stare = pd.DataFrame(lines, columns=['ID', 'sep', 'diag']).drop('sep', axis=1)\n",
    "df_stare = df_stare[df_stare['ID'].isin(existing)]\n",
    "\n",
    "df_stare['Disease_Risk'] = 1\n",
    "for d in diseases:\n",
    "  df_stare[d] = 0\n",
    "\n",
    "def is_dr(x):\n",
    "  return int('Diabetic Retinopathy' in x)\n",
    "\n",
    "def is_armd(x):\n",
    "  return int('Age Related Macular Degeneration' in x)\n",
    "\n",
    "\n",
    "df_stare['DR'] = df_stare['diag'].apply(is_dr)\n",
    "df_stare['ARMD'] = df_stare['diag'].apply(is_armd)\n",
    "df_stare.drop(['diag'], axis=1).to_csv(\n",
    "    f'datasets/stare.csv', index=False)\n"
   ]
  },
  {
   "cell_type": "code",
   "execution_count": null,
   "metadata": {},
   "outputs": [],
   "source": [
    "df_stare['DR']"
   ]
  },
  {
   "cell_type": "code",
   "execution_count": null,
   "metadata": {},
   "outputs": [],
   "source": [
    "TEST_IMG_PATH = '/cluster/VAST/civalab/public_datasets/STARE/all-images'\n",
    "TEST_CSV = 'datasets/stare.csv'\n",
    "stare = data.EyePACSDataset(TEST_CSV, TEST_IMG_PATH, testing=True, input_size=512, ext='.ppm',\n",
    "                            noisy_student=False)"
   ]
  },
  {
   "cell_type": "code",
   "execution_count": null,
   "metadata": {},
   "outputs": [],
   "source": [
    "!cat $TEST_CSV"
   ]
  },
  {
   "cell_type": "code",
   "execution_count": null,
   "metadata": {},
   "outputs": [],
   "source": [
    "plt.imshow(stare[i][0].permute(1, 2, 0)[..., 1].detach().cpu().numpy())\n",
    "i += 1"
   ]
  },
  {
   "cell_type": "code",
   "execution_count": null,
   "metadata": {},
   "outputs": [],
   "source": [
    "get_metrics(single_model, [stare], index=['DR', 'ARMD'], batch_size=32)"
   ]
  },
  {
   "cell_type": "code",
   "execution_count": null,
   "metadata": {},
   "outputs": [],
   "source": [
    "get_metrics(bagging, [stare], index=['DR', 'ARMD'], batch_size=32)"
   ]
  },
  {
   "cell_type": "code",
   "execution_count": null,
   "metadata": {},
   "outputs": [],
   "source": [
    "get_metrics(multi_expert, [stare], index=['DR', 'ARMD'], batch_size=32)"
   ]
  },
  {
   "cell_type": "markdown",
   "metadata": {},
   "source": [
    "# G1020"
   ]
  },
  {
   "cell_type": "code",
   "execution_count": null,
   "metadata": {},
   "outputs": [],
   "source": [
    "df_g1020 = pd.read_csv('/cluster/VAST/civalab/public_datasets/G1020/G1020.csv')\n",
    "\n",
    "df"
   ]
  },
  {
   "cell_type": "code",
   "execution_count": null,
   "metadata": {},
   "outputs": [],
   "source": [
    "df_g1020['Disease_Risk'] = 0\n",
    "for d in diseases:\n",
    "  df_g1020[d] = 0\n",
    "df_g1020.rename({'imageID': 'ID'}, axis=1, inplace=True)\n",
    "df_g1020['ODC'] = df_g1020['binaryLabels']\n",
    "df_g1020['Disease_Risk'] = df_g1020['binaryLabels']\n",
    "df_g1020.drop(['binaryLabels'], axis=1).to_csv(\n",
    "    f'datasets/g1020.csv', index=False)\n"
   ]
  },
  {
   "cell_type": "code",
   "execution_count": null,
   "metadata": {},
   "outputs": [],
   "source": [
    "TEST_IMG_PATH = '/cluster/VAST/civalab/public_datasets/G1020/Images'\n",
    "TEST_CSV = 'datasets/g1020.csv'\n",
    "g1020 = data.EyePACSDataset(TEST_CSV, TEST_IMG_PATH, testing=True, input_size=512, ext='')\n",
    "plt.imshow(g1020[0][0].permute(1, 2, 0)[..., 1].detach().cpu().numpy())"
   ]
  },
  {
   "cell_type": "code",
   "execution_count": null,
   "metadata": {},
   "outputs": [],
   "source": [
    "get_metrics(single_model, [g1020], index=['ODC'], batch_size=32)"
   ]
  },
  {
   "cell_type": "code",
   "execution_count": null,
   "metadata": {},
   "outputs": [],
   "source": [
    "get_metrics(bagging, [g1020], index=['ODC'], batch_size=32)"
   ]
  },
  {
   "cell_type": "code",
   "execution_count": null,
   "metadata": {},
   "outputs": [],
   "source": [
    "get_metrics(multi_expert, [g1020], index=['ODC'], batch_size=32)"
   ]
  },
  {
   "cell_type": "code",
   "execution_count": null,
   "metadata": {},
   "outputs": [],
   "source": []
  }
 ],
 "metadata": {
  "kernelspec": {
   "display_name": "Python 3",
   "language": "python",
   "name": "python3"
  },
  "language_info": {
   "codemirror_mode": {
    "name": "ipython",
    "version": 3
   },
   "file_extension": ".py",
   "mimetype": "text/x-python",
   "name": "python",
   "nbconvert_exporter": "python",
   "pygments_lexer": "ipython3",
   "version": "3.9.13"
  }
 },
 "nbformat": 4,
 "nbformat_minor": 2
}

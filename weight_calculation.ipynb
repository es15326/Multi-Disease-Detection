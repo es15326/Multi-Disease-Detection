{
 "cells": [
  {
   "cell_type": "code",
   "execution_count": 22,
   "metadata": {},
   "outputs": [],
   "source": [
    "import matplotlib.pyplot as plt\n",
    "import pandas as pd\n",
    "import numpy as np\n",
    "import torch\n",
    "import tqdm\n",
    "import pytorch_lightning as pl\n",
    "from pytorch_lightning.callbacks import ModelCheckpoint\n",
    "from pytorch_lightning.loggers import WandbLogger\n",
    "from sklearn.model_selection import train_test_split\n",
    "from torch.utils.data import DataLoader\n",
    "import boosting_data\n",
    "import config\n",
    "import data\n",
    "import wandb\n",
    "from nets import ResNext, Densenet161\n",
    "import ttach as tta"
   ]
  },
  {
   "cell_type": "code",
   "execution_count": 23,
   "metadata": {},
   "outputs": [
    {
     "name": "stderr",
     "output_type": "stream",
     "text": [
      "100%|██████████| 320/320 [00:51<00:00,  6.27it/s]"
     ]
    },
    {
     "name": "stdout",
     "output_type": "stream",
     "text": [
      "[65. 48. 24. 38. 41. 13. 11. 45.  7.  7.  5. 11. 56.  4.  2.  2. 24. 12.\n",
      "  4.  3.  2.  4.  4.  9.  8.  7.  3.  2. 22.]\n",
      "[ 1.          2.83076923  4.91659919  2.90015083  6.93846154  2.97647059\n",
      "  3.72307692  5.38934911  7.78461538  3.20542986  7.78461538  7.78461538\n",
      "  6.05470085  3.89230769  7.78461538  3.89230769  7.18579882  4.44835165\n",
      "  7.78461538  4.67076923  7.78461538  5.18974359  2.22417582  6.36923077\n",
      " 12.45538462  9.08205128  7.78461538  7.78461538  8.15531136]\n",
      "[506. 132.  38. 102.  46.  34.  23.  65.   7.  17.   5.  11.  72.   8.\n",
      "   2.   4.  26.  21.   4.   5.   2.   6.  14.  11.   5.   6.   3.   2.\n",
      "  21.]\n"
     ]
    },
    {
     "name": "stderr",
     "output_type": "stream",
     "text": [
      "\n"
     ]
    }
   ],
   "source": [
    "import ISBI_data\n",
    "model = Densenet161()\n",
    "ckpt = torch.load('boosting/densenet161_224x224/checkpoints/ISBI-densenet161-224x224-b3-epoch=020-val_loss=0.0791.ckpt', map_location=torch.device('cpu'))\n",
    "new_dict = {k.replace('vit.', 'model.'): v for k, v in ckpt['state_dict'].items()}\n",
    "model.load_state_dict(new_dict)\n",
    "model.eval()\n",
    "model.cuda()\n",
    "model = tta.ClassificationTTAWrapper(model, tta.aliases.flip_transform())\n",
    "\n",
    "testing_img_path = '../Evaluation_Set/Validation'\n",
    "testing_df = '../Evaluation_Set/RFMiD_Validation_Labels.csv'\n",
    "valset = boosting_data.ISBIDataset(testing_df, testing_img_path, testing=True, weight_csv=None, input_size=224)\n",
    "N = len(valset)\n",
    "batch_size = 2\n",
    "dataloader = DataLoader(valset, batch_size=batch_size, shuffle=False, \n",
    "                        num_workers=24)\n",
    "\n",
    "outs = np.zeros((N, 29))\n",
    "labels = np.zeros((N, 29))\n",
    "for i, (imgs, label, w) in enumerate(tqdm.tqdm(dataloader)):\n",
    "\n",
    "    idx = i * batch_size\n",
    "    imgs = imgs.cuda()\n",
    "    out = model(imgs).detach().cpu().numpy()\n",
    "    #out = np.round(out).astype('int').clip(1, None)\n",
    "    outs[idx:idx + len(out),:] = out\n",
    "    labels[idx:idx + len(label),:]  = label.detach().cpu().numpy()\n",
    "sig = torch.nn.Sigmoid()\n",
    "weight = np.zeros((29,))\n",
    "count = np.zeros((29,))\n",
    "rounded_valid_pred = np.round(sig(torch.tensor(outs)).numpy()).astype('int')\n",
    "for i in range(labels.shape[0]):\n",
    "    for j in range(labels.shape[1]):\n",
    "        if labels[i][j] != rounded_valid_pred[i][j]:\n",
    "            weight[j]+=1\n",
    "        if labels[i][j] == 1:\n",
    "            count[j] += 1\n",
    "print(weight)\n",
    "weight[weight==0]=1\n",
    "weight = weight/count\n",
    "weight = weight/min(weight)\n",
    "weight_df = pd.DataFrame(weight)\n",
    "weight_df.to_csv(f'boosting/densenet161_224x224/densenet_b4.csv', index=False)\n",
    "print(weight)\n",
    "print(count)"
   ]
  },
  {
   "cell_type": "code",
   "execution_count": 21,
   "metadata": {},
   "outputs": [
    {
     "data": {
      "text/plain": [
       "array([1., 0., 0., 0., 0., 0., 0., 0., 0., 0., 0., 0., 0., 0., 0., 0., 0.,\n",
       "       0., 0., 0., 0., 0., 0., 0., 0., 0., 0., 1., 0.])"
      ]
     },
     "execution_count": 21,
     "metadata": {},
     "output_type": "execute_result"
    }
   ],
   "source": [
    "labels[639]"
   ]
  },
  {
   "cell_type": "code",
   "execution_count": 10,
   "metadata": {},
   "outputs": [
    {
     "data": {
      "text/plain": [
       "array([1.        , 2.43386243, 5.28404344, 2.9134765 , 7.50793651,\n",
       "       3.07096172, 3.84126984, 5.18974359, 8.03174603])"
      ]
     },
     "execution_count": 10,
     "metadata": {},
     "output_type": "execute_result"
    }
   ],
   "source": [
    "a = np.array([63., 40., 25., 37., 43., 13., 11., 42.,  7.])\n",
    "b = np.array([506., 132.,  38., 102.,  46.,  34.,  23.,  65., 7.])\n",
    "c = a/b\n",
    "c = c/min(c)\n",
    "c"
   ]
  },
  {
   "cell_type": "code",
   "execution_count": 8,
   "metadata": {},
   "outputs": [
    {
     "name": "stdout",
     "output_type": "stream",
     "text": [
      "[ 1.          2.49747475  5.64912281  3.08169935  6.83333333  3.83333333\n",
      "  3.33333333  4.24615385  7.66666667  4.50980392  7.66666667  6.96969697\n",
      "  4.68518519  2.875      11.5         3.83333333  7.37179487  4.38095238\n",
      "  7.66666667  7.66666667  7.66666667  3.83333333  2.19047619  6.27272727\n",
      " 12.26666667  8.94444444  7.66666667  7.66666667  7.66666667]\n",
      "[506. 132.  38. 102.  46.  34.  23.  65.   7.  17.   5.  11.  72.   8.\n",
      "   2.   4.  26.  21.   4.   5.   2.   6.  14.  11.   5.   6.   3.   2.\n",
      "  21.]\n"
     ]
    }
   ],
   "source": [
    "weight_df = pd.DataFrame(weight)\n",
    "weight_df.to_csv(f'boosting/weight_resnext_732_b0.csv', index=False)\n",
    "print(weight)\n",
    "print(count)"
   ]
  }
 ],
 "metadata": {
  "interpreter": {
   "hash": "10b35319ccfa777a216abcc393ce563038312515397d1e464df0f5f3a854c47b"
  },
  "kernelspec": {
   "display_name": "Python 3.7.10 64-bit ('torch': conda)",
   "name": "python3"
  },
  "language_info": {
   "codemirror_mode": {
    "name": "ipython",
    "version": 3
   },
   "file_extension": ".py",
   "mimetype": "text/x-python",
   "name": "python",
   "nbconvert_exporter": "python",
   "pygments_lexer": "ipython3",
   "version": "3.7.10"
  },
  "orig_nbformat": 4
 },
 "nbformat": 4,
 "nbformat_minor": 2
}

{
 "cells": [
  {
   "cell_type": "code",
   "execution_count": 1,
   "source": [
    "import numpy as np\n",
    "import torch\n",
    "import pandas as pd\n",
    "from torchvision.models.densenet import densenet161\n",
    "import tqdm\n",
    "from torch.utils.data import DataLoader\n",
    "from sklearn.metrics import roc_auc_score, average_precision_score\n",
    "import ISBI_data\n",
    "import ISBI_rareset\n",
    "from metrics import *"
   ],
   "outputs": [],
   "metadata": {}
  },
  {
   "cell_type": "code",
   "execution_count": 26,
   "source": [
    "predict1 = np.load('results/resnext101_224x224.npy')\n",
    "predict2 = np.load('results/densenet161_244x244.npy')\n",
    "predict3 = np.load('results/resnext101_488x488.npy')\n",
    "predict4 = np.load('results/resnext101_732x732.npy')\n",
    "outs = (predict1+predict2+predict3+predict4)/4\n",
    "labels = np.load('results/testing_labels.npy')"
   ],
   "outputs": [],
   "metadata": {}
  },
  {
   "cell_type": "code",
   "execution_count": 27,
   "source": [
    "######### calculation of scores ###########\n",
    "illness_label = labels[:,0]\n",
    "illness_pred = outs[:,0]\n",
    "auc1 = roc_auc_score(illness_label, illness_pred)\n",
    "print(f'AUC of Challenge 1: {auc1}')\n",
    "\n",
    "diseases_label = labels[:,1:]\n",
    "diseases_pred = outs[:,1:]\n",
    "auc2 = roc_auc_score(diseases_label, diseases_pred)\n",
    "print(f'AUC of Challenge 2: {auc2}')\n",
    "\n",
    "mAP = average_precision_score(diseases_label, diseases_pred)\n",
    "print(f'mAP of Challenge 2: {mAP}')\n",
    "\n",
    "C1_Score = auc1\n",
    "C2_Score = mAP * 0.5 + auc2 * 0.5\n",
    "final_Score =  C2_Score * 0.5 + C1_Score * 0.5\n",
    "print(f'C1 Score: {C1_Score} C2 Score: {C2_Score} Final Score: {final_Score}')"
   ],
   "outputs": [
    {
     "output_type": "stream",
     "name": "stdout",
     "text": [
      "AUC of Challenge 1: 0.9849861365111203\n",
      "AUC of Challenge 2: 0.9380342392025094\n",
      "mAP of Challenge 2: 0.6048718868295965\n",
      "C1 Score: 0.9849861365111203 C2 Score: 0.771453063016053 Final Score: 0.8782195997635867\n"
     ]
    }
   ],
   "metadata": {}
  },
  {
   "cell_type": "code",
   "execution_count": null,
   "source": [
    "post"
   ],
   "outputs": [],
   "metadata": {}
  }
 ],
 "metadata": {
  "orig_nbformat": 4,
  "language_info": {
   "name": "python",
   "version": "3.7.10",
   "mimetype": "text/x-python",
   "codemirror_mode": {
    "name": "ipython",
    "version": 3
   },
   "pygments_lexer": "ipython3",
   "nbconvert_exporter": "python",
   "file_extension": ".py"
  },
  "kernelspec": {
   "name": "python3",
   "display_name": "Python 3.7.10 64-bit ('torch': conda)"
  },
  "interpreter": {
   "hash": "ec949caec1669b5a6f27961e507129f11fe2af4aae34c2ace3af081002d8b917"
  }
 },
 "nbformat": 4,
 "nbformat_minor": 2
}